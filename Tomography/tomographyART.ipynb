{
 "cells": [
  {
   "cell_type": "code",
   "execution_count": null,
   "id": "37002f77-ab6a-40c7-b05a-b1e7c37434f7",
   "metadata": {},
   "outputs": [],
   "source": [
    "from PIL import Image\n",
    "import numpy as np\n",
    "from matplotlib import pyplot as plt\n",
    "%matplotlib inline"
   ]
  },
  {
   "cell_type": "code",
   "execution_count": 3,
   "id": "ab43acde-2e30-4b18-8fcb-4278fae163d2",
   "metadata": {},
   "outputs": [
    {
     "ename": "NameError",
     "evalue": "name 'Image' is not defined",
     "output_type": "error",
     "traceback": [
      "\u001b[1;31m---------------------------------------------------------------------------\u001b[0m",
      "\u001b[1;31mNameError\u001b[0m                                 Traceback (most recent call last)",
      "Cell \u001b[1;32mIn[3], line 1\u001b[0m\n\u001b[1;32m----> 1\u001b[0m pic1 \u001b[38;5;241m=\u001b[39m Image\u001b[38;5;241m.\u001b[39mopen(\u001b[38;5;124m\"\u001b[39m\u001b[38;5;124mC:/Users/jared/OneDrive/Desktop/GPOE2025/tomography/easton.gif\u001b[39m\u001b[38;5;124m\"\u001b[39m)\n\u001b[0;32m      2\u001b[0m pic2 \u001b[38;5;241m=\u001b[39m Image\u001b[38;5;241m.\u001b[39mopen(\u001b[38;5;124m\"\u001b[39m\u001b[38;5;124mC:/Users/jared/OneDrive/Desktop/GPOE2025/tomography/westford.gif\u001b[39m\u001b[38;5;124m\"\u001b[39m)\n",
      "\u001b[1;31mNameError\u001b[0m: name 'Image' is not defined"
     ]
    }
   ],
   "source": [
    "pic1 = Image.open(\"C:/Users/jared/OneDrive/Desktop/GPOE2025/tomography/easton.gif\")\n",
    "pic2 = Image.open(\"C:/Users/jared/OneDrive/Desktop/GPOE2025/tomography/westford.gif\")"
   ]
  },
  {
   "cell_type": "code",
   "execution_count": null,
   "id": "cfd6aecd-c7b8-4ef7-982b-baef3c300164",
   "metadata": {},
   "outputs": [],
   "source": [
    "pic1"
   ]
  },
  {
   "cell_type": "code",
   "execution_count": null,
   "id": "98af2c55-dc3d-4100-929c-892fb8d55656",
   "metadata": {},
   "outputs": [],
   "source": [
    "pic2"
   ]
  },
  {
   "cell_type": "code",
   "execution_count": null,
   "id": "6c868e76-9592-4207-8c02-15a8db600849",
   "metadata": {},
   "outputs": [],
   "source": [
    "# tetsing with existing algorithms, have a hard time at limited angle!!\n",
    "theta_max = 30\n",
    "num_shots = 100\n",
    "\n",
    "import numpy as np\n",
    "import matplotlib.pyplot as plt\n",
    "\n",
    "from skimage.data import shepp_logan_phantom\n",
    "from skimage.transform import radon, rescale\n",
    "\n",
    "image = shepp_logan_phantom()\n",
    "image = rescale(image, scale=0.4, mode='reflect', channel_axis=None)\n",
    "\n",
    "fig, (ax1, ax2) = plt.subplots(1, 2, figsize=(8, 4.5))\n",
    "\n",
    "ax1.set_title(\"Original\")\n",
    "ax1.imshow(image, cmap=plt.cm.Greys_r)\n",
    "\n",
    "theta = np.linspace(0.0, theta_max, num_shots, endpoint=False) #max(image.shape)\n",
    "sinogram = radon(image, theta=theta)\n",
    "dx, dy = 0.5 * theta_max / max(image.shape), 0.5 / sinogram.shape[0]\n",
    "ax2.set_title(\"Radon transform\\n(Sinogram)\")\n",
    "ax2.set_xlabel(\"Projection angle (deg)\")\n",
    "ax2.set_ylabel(\"Projection position (pixels)\")\n",
    "ax2.imshow(\n",
    "    sinogram,\n",
    "    cmap=plt.cm.Greys_r,\n",
    "    extent=(-dx, theta_max + dx, -dy, sinogram.shape[0] + dy),\n",
    "    aspect='auto',\n",
    ")\n",
    "\n",
    "fig.tight_layout()\n",
    "plt.show()"
   ]
  },
  {
   "cell_type": "code",
   "execution_count": null,
   "id": "db3bd321-ab66-432f-b327-289c401675a1",
   "metadata": {},
   "outputs": [],
   "source": [
    "# choose a number of reconstruction iterations\n",
    "iter_n = 160\n",
    "\n",
    "from skimage.transform import iradon_sart\n",
    "\n",
    "imkwargs = dict(vmin=-0.2, vmax=0.2)\n",
    "reconstruction_sart = iradon_sart(sinogram, theta=theta)\n",
    "error = reconstruction_sart - image\n",
    "print(\n",
    "    f'SART (1 iteration) rms reconstruction error: ' f'{np.sqrt(np.mean(error**2)):.3g}'\n",
    ")\n",
    "\n",
    "fig, axes = plt.subplots(2, 2, figsize=(8, 8.5), sharex=True, sharey=True)\n",
    "ax = axes.ravel()\n",
    "\n",
    "ax[0].set_title(\"Reconstruction\\nSART\")\n",
    "ax[0].imshow(reconstruction_sart, cmap=plt.cm.Greys_r)\n",
    "\n",
    "ax[1].set_title(\"Reconstruction error\\nSART\")\n",
    "ax[1].imshow(reconstruction_sart - image, cmap=plt.cm.Greys_r, **imkwargs)\n",
    "\n",
    "# Run a second iteration of SART by supplying the reconstruction\n",
    "# from the first iteration as an initial estimate\n",
    "errors = []\n",
    "for i in range(iter_n-1):\n",
    "    reconstruction_sart = iradon_sart(sinogram, theta=theta, image=reconstruction_sart)\n",
    "    error = reconstruction_sart - image\n",
    "    errors.append(np.sqrt(np.mean(error**2)))\n",
    "    print(\n",
    "        f'rms reconstruction error: '\n",
    "        f'{np.sqrt(np.mean(error**2)):.3g}'\n",
    "    )\n",
    "\n",
    "ax[2].set_title(\"Reconstruction\\nSART, \"+str(iter_n)+\" iterations\")\n",
    "ax[2].imshow(reconstruction_sart, cmap=plt.cm.Greys_r)\n",
    "\n",
    "ax[3].set_title(\"Reconstruction error\\nSART, \"+str(iter_n)+\" iterations\")\n",
    "ax[3].imshow(reconstruction_sart - image, cmap=plt.cm.Greys_r, **imkwargs)\n",
    "plt.show()"
   ]
  },
  {
   "cell_type": "code",
   "execution_count": null,
   "id": "78455cf6-9f62-4501-b74b-90600aac2271",
   "metadata": {},
   "outputs": [],
   "source": [
    "# this method doesn't seem to improve much with iteration. \n",
    "# Add in some metric of how much iteration helps, because the first one does the bulk\n",
    "# Look also at how this depends on the number of projected images\n",
    "\n",
    "# Take a look at where the error saturates to as a function of theta_max\n",
    "plt.plot(np.linspace(1, iter_n,159),np.array(errors))\n"
   ]
  },
  {
   "cell_type": "code",
   "execution_count": null,
   "id": "0021b72b-283b-45bb-bd01-d5e77d8693dd",
   "metadata": {},
   "outputs": [],
   "source": [
    "# shitload of shots at various angle domains\n",
    "thetas = [5,15,32.5,135,165,90,110]\n",
    "errors = [0.1975,0.186,0.149, 0.0674,0.0308,0.105,0.089] #15deg is >160, 135 is also and 165\n",
    "iter = [160,160,120,160,160,70,80]\n",
    "\n",
    "plt.figure(1)\n",
    "plt.plot(thetas,errors,'.')\n",
    "plt.ylabel('RMS per-pixel error')\n",
    "plt.xlabel('Field of view (FOV)')\n",
    "\n",
    "plt.figure(2)\n",
    "plt.plot(thetas,iter,'.')\n",
    "plt.ylabel('ART iterations to convergence')\n",
    "plt.xlabel('Field of view (FOV)')\n",
    "plt.show()"
   ]
  },
  {
   "cell_type": "code",
   "execution_count": null,
   "id": "6a8d86b0-bc12-4638-87d1-5df5e7236404",
   "metadata": {},
   "outputs": [],
   "source": [
    "# Now look at how a 125deg shot depends on the number of images\n",
    "shots125 = [100,30,10,3]\n",
    "errors125 = [0.078,0.084,0.105,0.146]\n",
    "iter125 = [160,160,160,160] #lim 160\n",
    "\n",
    "plt.plot(shots125,errors125,'.',label='simulations')\n",
    "plt.plot(np.linspace(1,100,100),0.07+0.07*1/(np.linspace(0,100,100))**(1/2))\n",
    "plt.axhline(y=0.07,ls='dotted',c='r',label='125deg FOV limit')\n",
    "plt.xscale('log')\n",
    "plt.ylabel('RMS per-pixel error')\n",
    "plt.xlabel('Number of projections')\n",
    "plt.legend()\n",
    "plt.show()"
   ]
  },
  {
   "cell_type": "code",
   "execution_count": null,
   "id": "166364f2-328d-4bbb-89f1-831eb1d77cd0",
   "metadata": {},
   "outputs": [],
   "source": [
    "# Now look at how a 30deg shot depends on the number of images\n",
    "shots30 = [100,30,10,3]\n",
    "errors30 = [0.151,0.158,0.169,0.188]\n",
    "iter30 = [160,160,160,160] #lim 160\n",
    "\n",
    "plt.plot(shots30,errors30,'.',label='simulations')\n",
    "plt.plot(np.linspace(1,100,100),0.15+0.04*1/(np.linspace(0,100,100))**(1/2))\n",
    "plt.axhline(y=0.149,ls='dotted',c='r',label='35deg FOV limit')\n",
    "plt.xscale('log')\n",
    "plt.ylabel('RMS per-pixel error')\n",
    "plt.xlabel('Number of projections')\n",
    "plt.legend()\n",
    "plt.show()"
   ]
  },
  {
   "cell_type": "code",
   "execution_count": null,
   "id": "fbe7473c-718b-42a3-9717-071d2886912a",
   "metadata": {},
   "outputs": [],
   "source": [
    "# these trends tell me we should make a sparse, wide array rather than a dense, narrow one!\n",
    "# how does dimensionality factor in? 2D vs 3D recon"
   ]
  },
  {
   "cell_type": "code",
   "execution_count": null,
   "id": "bbbc69d5-6801-4938-95b0-b08ddcd9f8ac",
   "metadata": {},
   "outputs": [],
   "source": [
    "# returning to aurora pics. Try pyabel?\n",
    "import abel\n",
    "original = abel.tools.analytical.SampleImage(name='Gerber').func\n",
    "forward_abel = abel.Transform(original, direction='forward',\n",
    "                              method='hansenlaw').transform\n",
    "inverse_abel = abel.Transform(forward_abel, direction='inverse',\n",
    "                              method='three_point').transform\n",
    "\n",
    "fig, axs = plt.subplots(1, 2, figsize=(6, 3))\n",
    "\n",
    "axs[0].imshow(forward_abel, clim=(0, None), cmap='ocean_r')\n",
    "axs[1].imshow(inverse_abel, clim=(0, None), cmap='ocean_r')\n",
    "\n",
    "axs[0].set_title('Forward Abel transform')\n",
    "axs[1].set_title('Inverse Abel transform')\n",
    "\n",
    "plt.tight_layout()\n",
    "plt.show()\n"
   ]
  },
  {
   "cell_type": "code",
   "execution_count": null,
   "id": "f6f135ba-58da-4377-b3cb-7bfd14fb3088",
   "metadata": {},
   "outputs": [],
   "source": [
    "plt.imshow(original)"
   ]
  },
  {
   "cell_type": "code",
   "execution_count": null,
   "id": "f8644d86-bd2e-42a4-abda-9b8a3588c9a2",
   "metadata": {},
   "outputs": [],
   "source": [
    "# How to make it not show just slices? Assumes cylindrical symetry... nvm"
   ]
  },
  {
   "cell_type": "code",
   "execution_count": null,
   "id": "b60ebe0e-df5e-4245-9d94-8dfdd6190549",
   "metadata": {},
   "outputs": [],
   "source": [
    "# some potential libraries\n",
    "# https://astra-toolbox.com/docs/geom3d.html\n",
    "# https://tomopy.readthedocs.io/en/latest/ipynb/tomopy.html\n",
    "# https://medium.com/@lotfi-habbiche/3d-model-reconstruction-from-images-implementing-with-opencv-3d1b370fa13c\n",
    "# https://cvgl.stanford.edu/teaching/cs231a_winter1415/prev/projects/CS231a-FinalReport-sgmccann.pdf"
   ]
  }
 ],
 "metadata": {
  "kernelspec": {
   "display_name": "Python 3 (ipykernel)",
   "language": "python",
   "name": "python3"
  },
  "language_info": {
   "codemirror_mode": {
    "name": "ipython",
    "version": 3
   },
   "file_extension": ".py",
   "mimetype": "text/x-python",
   "name": "python",
   "nbconvert_exporter": "python",
   "pygments_lexer": "ipython3",
   "version": "3.11.7"
  }
 },
 "nbformat": 4,
 "nbformat_minor": 5
}
